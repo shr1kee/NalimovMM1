{
 "cells": [
  {
   "cell_type": "code",
   "execution_count": 15,
   "metadata": {
    "collapsed": true
   },
   "outputs": [],
   "source": [
    "%matplotlib inline\n",
    "import cv2\n",
    "import numpy as np\n",
    "from matplotlib import pyplot as plt\n",
    "import copy\n",
    "import math"
   ]
  },
  {
   "cell_type": "code",
   "execution_count": null,
   "metadata": {},
   "outputs": [],
   "source": [
    "def getRegion(I,u,v,r):\n",
    "    p = []\n",
    "    for i in range(u-r,u+r):\n",
    "        for j in range(v-r,v+r):\n",
    "            if ((u-i)**2 + (v-j)**2)<=r*r:\n",
    "                p.append(I[i,j])\n",
    "    return p\n",
    "def AggDistance(x, P):\n",
    "    d = 0\n",
    "    for q in P:\n",
    "        dq = 0\n",
    "        for k in range(0,2):\n",
    "            dq = dq + abs(x[k]-q[k])\n",
    "        d = d + dq\n",
    "    return d\n",
    "    \n",
    "def Filter(img,r):\n",
    "    m= img.shape[0]\n",
    "    n =img.shape[1]\n",
    "    m,n = 50,50\n",
    "    img2 = copy.copy(img)\n",
    "    img2 = np.zeros((50,50))\n",
    "    for i in range(r,m-r):\n",
    "        for j in range(r,n-r):\n",
    "            pctr = img[i,j]\n",
    "            P = getRegion(img,i,j,r)\n",
    "            dctr = AggDistance(pctr,P)\n",
    "            dmin = math.inf\n",
    "            for pi in P:\n",
    "                d = AggDistance(pi,P)\n",
    "                if d < dmin:\n",
    "                    pmin = pi\n",
    "                    dmin = d\n",
    "            if dmin < dctr:\n",
    "                img2[i,j] = pmin\n",
    "            else:\n",
    "                img2[i,j] = img[i,j]\n",
    "    return img2\n",
    "            \n",
    "            \n",
    "img =cv2.imread(\"C:/Users/Acer/opencvProj/image.jpg\")\n",
    "img = cv2.cvtColor(img, cv2.COLOR_BGR2RGB)\n",
    "print(type(img))\n",
    "plt.imshow(img)\n",
    "plt.show()\n",
    "nimg = Filter(img,3)\n",
    "plt.imshow(nimg)\n",
    "plt.show()\n",
    "    \n",
    "\n"
   ]
  },
  {
   "cell_type": "code",
   "execution_count": 16,
   "metadata": {},
   "outputs": [
    {
     "data": {
      "text/plain": [
       "2"
      ]
     },
     "execution_count": 16,
     "metadata": {},
     "output_type": "execute_result"
    }
   ],
   "source": [
    "abs(-2)"
   ]
  }
 ],
 "metadata": {
  "kernelspec": {
   "display_name": "Python 3",
   "language": "python",
   "name": "python3"
  },
  "language_info": {
   "codemirror_mode": {
    "name": "ipython",
    "version": 3
   },
   "file_extension": ".py",
   "mimetype": "text/x-python",
   "name": "python",
   "nbconvert_exporter": "python",
   "pygments_lexer": "ipython3",
   "version": "3.6.3"
  }
 },
 "nbformat": 4,
 "nbformat_minor": 2
}
