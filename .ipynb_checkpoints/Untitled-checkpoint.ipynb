{
 "cells": [
  {
   "cell_type": "code",
   "execution_count": 94,
   "metadata": {},
   "outputs": [
    {
     "name": "stdout",
     "output_type": "stream",
     "text": [
      "(100, 300, 3)\n",
      "(100, 300, 3)\n"
     ]
    },
    {
     "data": {
      "image/png": "[encoded data removed]",
      "text/plain": [
       "<matplotlib.figure.Figure at 0x1d4a377e978>"
      ]
     },
     "metadata": {},
     "output_type": "display_data"
    },
    {
     "data": {
      "image/png": "[encoded data removed]",
      "text/plain": [
       "<matplotlib.figure.Figure at 0x1d4a37a9cc0>"
      ]
     },
     "metadata": {},
     "output_type": "display_data"
    },
    {
     "data": {
      "image/png": "[encoded data removed]",
      "text/plain": [
       "<matplotlib.figure.Figure at 0x1d4a2501fd0>"
      ]
     },
     "metadata": {},
     "output_type": "display_data"
    }
   ],
   "source": [
    "import cv2\n",
    "import numpy as np\n",
    "from matplotlib import pyplot as plt\n",
    "color = [[0,0,0],[127,127,127],[255,255,255]]\n",
    "a3 = np.array( [[[20,75],[80,75],[50,20]]], dtype=np.int32 )\n",
    "img1 = np.zeros((100,100,3), np.uint8)\n",
    "cv2.rectangle(img1,(20,20),(80,80),(255,0,0),thickness=-4)\n",
    "img2 = np.zeros((100,100,3), np.uint8)\n",
    "cv2.circle(img2,(50,50), 30, (255,0,0), -1)\n",
    "img3 = np.zeros((100,100,3), np.uint8)\n",
    "cv2.fillPoly(img3, a3,color[2])\n",
    "fin1 = np.concatenate((img1,img2,img3), axis = 1)\n",
    "print(fin1.shape)\n",
    "img1 = np.zeros((100,100,3), np.uint8)+127\n",
    "cv2.rectangle(img1,(20,20),(80,80),(255,0,0),thickness=-4)\n",
    "img2 = np.zeros((100,100,3), np.uint8)+127\n",
    "cv2.circle(img2,(50,50), 30, (255,0,0), -1)\n",
    "img3 = np.zeros((100,100,3), np.uint8)+127\n",
    "cv2.fillPoly(img3, a3,color[2])\n",
    "fin2 = np.concatenate((img1,img2,img3), axis = 1)\n",
    "print(fin2.shape)\n",
    "fin = np.concatenate((fin1,fin2),axis = 0)\n",
    "plt.imshow(fin,cmap=\"gray\")\n",
    "plt.show()\n",
    "img1 = np.ones((100,100), np.uint8)\n",
    "cv2.rectangle(img1,(20,20),(80,80),(0,0,0),thickness=-4)\n",
    "img2 = np.ones((100,100), np.uint8)\n",
    "cv2.circle(img2,(50,50), 30, (0,0,0), -1)\n",
    "fin2 = np.concatenate((img1,img2),axis = 1)\n",
    "# = np.concatenate((fin1,fin2),axis = 0)\n",
    "#black on gray\n",
    "img1 = np.zeros((100,100,3), np.uint8)+127\n",
    "cv2.rectangle(img1,(20,20),(80,80),(0,0,0),thickness=-4)\n",
    "img2 = np.zeros((100,100,3), np.uint8)+127\n",
    "cv2.circle(img2,(50,50), 30, (0,0,0), -1)\n",
    "img3 = np.zeros((100,100,3), np.uint8)+127\n",
    "a3 = np.array( [[[20,75],[80,75],[50,20]]], dtype=np.int32 )\n",
    "cv2.fillPoly(img3, a3,color[0])\n",
    "fin1 = np.concatenate((img1,img2,img3),axis = 1)\n",
    "plt.imshow(fin3,cmap=\"gray\")\n",
    "#black on white\n",
    "img1 = np.zeros((100,100,3), np.uint8)\n",
    "cv2.rectangle(img1,(20,20),(80,80),(255,0,0),thickness=-4)\n",
    "img2 = np.zeros((100,100,3), np.uint8)\n",
    "cv2.circle(img2,(50,50), 30, (255,0,0), -1)\n",
    "img3 = np.zeros((100,100,3), np.uint8)\n",
    "a3 = np.array( [[[20,75],[80,75],[50,20]]], dtype=np.int32 )\n",
    "cv2.fillPoly(img3, a3,color[2])\n",
    "fin2 = np.concatenate((img1,img2,img3),axis = 1)\n",
    "plt.imshow(fin3,cmap=\"gray\")\n",
    "plt.show()\n",
    "fin = np.concatenate((fin1,fin2),axis = 0)\n",
    "plt.imshow(fin,cmap=\"gray\")\n",
    "plt.show()"
   ]
  },
  {
   "cell_type": "code",
   "execution_count": null,
   "metadata": {
    "collapsed": true
   },
   "outputs": [],
   "source": []
  }
 ],
 "metadata": {
  "kernelspec": {
   "display_name": "Python 3",
   "language": "python",
   "name": "python3"
  }
 },
 "nbformat": 4,
 "nbformat_minor": 2
}
