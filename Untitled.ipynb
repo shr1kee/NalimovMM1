{
 "cells": [
  {
   "cell_type": "code",
   "execution_count": 11,
   "metadata": {},
   "outputs": [
    {
     "data": {
      "image/png": "[encoded data removed]",
      "text/plain": [
       "<matplotlib.figure.Figure at 0x21e12cbfef0>"
      ]
     },
     "metadata": {},
     "output_type": "display_data"
    }
   ],
   "source": [
    "import cv2\n",
    "import numpy as np\n",
    "from matplotlib import pyplot as plt\n",
    "color = [[0,0,0],[127,127,127],[255,255,255]]\n",
    "a3 = np.array( [[[20,75],[80,75],[50,20]]], dtype=np.int32 )\n",
    "#white on black\n",
    "img1 = np.zeros((100,100,3), np.uint8)\n",
    "cv2.rectangle(img1,(20,20),(80,80),color[2],thickness=-4)\n",
    "img2 = np.zeros((100,100,3), np.uint8)\n",
    "cv2.circle(img2,(50,50), 30, color[2], -1)\n",
    "img3 = np.zeros((100,100,3), np.uint8)\n",
    "cv2.fillPoly(img3, a3,color[2])\n",
    "fin1 = np.concatenate((img1,img2,img3), axis = 1)\n",
    "#white on gray\n",
    "img1 = np.zeros((100,100,3), np.uint8)+127\n",
    "cv2.rectangle(img1,(20,20),(80,80),color[2],thickness=-4)\n",
    "img2 = np.zeros((100,100,3), np.uint8)+127\n",
    "cv2.circle(img2,(50,50), 30, color[2], -1)\n",
    "img3 = np.zeros((100,100,3), np.uint8)+127\n",
    "cv2.fillPoly(img3, a3,color[2])\n",
    "fin2 = np.concatenate((img1,img2,img3), axis = 1)\n",
    "fin = np.concatenate((fin1,fin2),axis = 0)\n",
    "\n",
    "img1 = np.ones((100,100,3), np.uint8)\n",
    "cv2.rectangle(img1,(20,20),(80,80),color[1],thickness=-4)\n",
    "img2 = np.ones((100,100,3), np.uint8)\n",
    "cv2.circle(img2,(50,50), 30, color[1], -1)\n",
    "fin2 = np.concatenate((img1,img2),axis = 1)\n",
    "img3 = np.ones((100,100,3),np.uint8)\n",
    "cv2.fillPoly(img3,a3,color[1])\n",
    "fin3 = np.concatenate((img1,img2,img3),axis=1)\n",
    "fin = np.concatenate((fin,fin3),axis =0)\n",
    "plt.imshow(fin)\n",
    "plt.show()\n",
    "# #black on gray\n",
    "# img1 = np.ones((100,100,3), np.uint8)\n",
    "# cv2.rectangle(img1,(20,20),(80,80),color[1],thickness=-4)\n",
    "# img2 = np.ones((100,100,3), np.uint8)\n",
    "# cv2.circle(img2,(50,50), 30, color[1], -1)\n",
    "# fin2 = np.concatenate((img1,img2),axis = 1)\n",
    "# img3 = np.ones((100,100,3),np.uint8)\n",
    "# cv2.fillPoly(img3,a3,color[1])\n",
    "# fin3 = np.concatenate((img1,img2,img3),axis=1)\n",
    "# fin = np.concatenate((fin,fin3),axis =0)\n",
    "# plt.imshow(fin)\n",
    "# plt.show()\n",
    "# img1 = np.zeros((100,100,3), np.uint8)+127\n",
    "# cv2.rectangle(img1,(20,20),(80,80),(0,0,0),thickness=-4)\n",
    "# img2 = np.zeros((100,100,3), np.uint8)+127\n",
    "# cv2.circle(img2,(50,50), 30, (0,0,0), -1)\n",
    "# img3 = np.zeros((100,100,3), np.uint8)+127\n",
    "# a3 = np.array( [[[20,75],[80,75],[50,20]]], dtype=np.int32 )\n",
    "# cv2.fillPoly(img3, a3,color[0])\n",
    "# fin1 = np.concatenate((img1,img2,img3),axis = 1)\n",
    "# plt.imshow(fin3,cmap=\"gray\")\n",
    "# #black on white\n",
    "# img1 = np.zeros((100,100,3), np.uint8)\n",
    "# cv2.rectangle(img1,(20,20),(80,80),(255,0,0),thickness=-4)\n",
    "# img2 = np.zeros((100,100,3), np.uint8)\n",
    "# cv2.circle(img2,(50,50), 30, (255,0,0), -1)\n",
    "# img3 = np.zeros((100,100,3), np.uint8)\n",
    "# a3 = np.array( [[[20,75],[80,75],[50,20]]], dtype=np.int32 )\n",
    "# cv2.fillPoly(img3, a3,color[2])\n",
    "# fin2 = np.concatenate((img1,img2,img3),axis = 1)\n",
    "# plt.imshow(fin3,cmap=\"gray\")\n",
    "# plt.show()\n",
    "# fin = np.concatenate((fin1,fin2),axis = 0)\n",
    "# plt.imshow(fin,cmap=\"gray\")\n",
    "# plt.show()"
   ]
  },
  {
   "cell_type": "code",
   "execution_count": null,
   "metadata": {
    "collapsed": true
   },
   "outputs": [],
   "source": []
  }
 ],
 "metadata": {
  "kernelspec": {
   "display_name": "Python 3",
   "language": "python",
   "name": "python3"
  },
  "language_info": {
   "codemirror_mode": {
    "name": "ipython",
    "version": 3
   },
   "file_extension": ".py",
   "mimetype": "text/x-python",
   "name": "python",
   "nbconvert_exporter": "python",
   "pygments_lexer": "ipython3",
   "version": "3.6.3"
  }
 },
 "nbformat": 4,
 "nbformat_minor": 2
}
